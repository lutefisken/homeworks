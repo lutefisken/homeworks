{
 "cells": [
  {
   "cell_type": "code",
   "execution_count": 1,
   "metadata": {},
   "outputs": [],
   "source": [
    "import pandas as pd"
   ]
  },
  {
   "cell_type": "code",
   "execution_count": 2,
   "metadata": {},
   "outputs": [
    {
     "name": "stdout",
     "output_type": "stream",
     "text": [
      "                    qid                                      question_text  \\\n",
      "0  00002165364db923c7e6  How did Quebec nationalists see their province...   \n",
      "1  000032939017120e6e44  Do you have an adopted dog, how would you enco...   \n",
      "2  0000412ca6e4628ce2cf  Why does velocity affect time? Does velocity a...   \n",
      "3  000042bf85aa498cd78e  How did Otto von Guericke used the Magdeburg h...   \n",
      "4  0000455dfa3e01eae3af  Can I convert montra helicon D to a mountain b...   \n",
      "\n",
      "   target  \n",
      "0       0  \n",
      "1       0  \n",
      "2       0  \n",
      "3       0  \n",
      "4       0  \n",
      "(1306122, 3)\n",
      "                    qid                                      question_text\n",
      "0  00014894849d00ba98a9  My voice range is A2-C5. My chest voice goes u...\n",
      "1  000156468431f09b3cae           How much does a tutor earn in Bangalore?\n",
      "2  000227734433360e1aae  What are the best made pocket knives under $20...\n",
      "3  0005e06fbe3045bd2a92  Why would they add a hypothetical scenario tha...\n",
      "4  00068a0f7f41f50fc399   What is the dresscode for Techmahindra freshers?\n",
      "(56370, 2)\n"
     ]
    }
   ],
   "source": [
    "train = pd.read_csv('train.csv')\n",
    "print(train.head())\n",
    "print(train.shape)\n",
    "test = pd.read_csv('test.csv')\n",
    "print(test.head())\n",
    "print(test.shape)"
   ]
  },
  {
   "cell_type": "code",
   "execution_count": 4,
   "metadata": {},
   "outputs": [],
   "source": [
    "from sklearn.feature_extraction.text import TfidfVectorizer\n",
    "from sklearn.ensemble import RandomForestClassifier\n",
    "from sklearn.metrics import classification_report"
   ]
  },
  {
   "cell_type": "code",
   "execution_count": 8,
   "metadata": {},
   "outputs": [],
   "source": [
    "from sklearn.model_selection import KFold"
   ]
  },
  {
   "cell_type": "code",
   "execution_count": 98,
   "metadata": {},
   "outputs": [
    {
     "name": "stderr",
     "output_type": "stream",
     "text": [
      "c:\\users\\e6230\\env\\lib\\site-packages\\gensim\\utils.py:1212: UserWarning: detected Windows; aliasing chunkize to chunkize_serial\n",
      "  warnings.warn(\"detected Windows; aliasing chunkize to chunkize_serial\")\n"
     ]
    }
   ],
   "source": [
    "from gensim.models import KeyedVectors"
   ]
  },
  {
   "cell_type": "markdown",
   "metadata": {},
   "source": [
    "Бейзлайн (0 - хорошие вопросы, 1 - плохие)"
   ]
  },
  {
   "cell_type": "code",
   "execution_count": 81,
   "metadata": {},
   "outputs": [
    {
     "name": "stdout",
     "output_type": "stream",
     "text": [
      "(1306122, 25000)\n"
     ]
    }
   ],
   "source": [
    "vectorizer = TfidfVectorizer(max_features=25000, min_df=5, max_df=0.3, lowercase=True)\n",
    "X_train = vectorizer.fit_transform(train['question_text'])\n",
    "print(X_train.shape)"
   ]
  },
  {
   "cell_type": "code",
   "execution_count": 89,
   "metadata": {},
   "outputs": [],
   "source": [
    "kf = KFold(n_splits=3)"
   ]
  },
  {
   "cell_type": "code",
   "execution_count": 112,
   "metadata": {},
   "outputs": [
    {
     "data": {
      "text/plain": [
       "scipy.sparse.csr.csr_matrix"
      ]
     },
     "execution_count": 112,
     "metadata": {},
     "output_type": "execute_result"
    }
   ],
   "source": [
    "type(X_train)"
   ]
  },
  {
   "cell_type": "code",
   "execution_count": 10,
   "metadata": {},
   "outputs": [
    {
     "name": "stdout",
     "output_type": "stream",
     "text": [
      "             precision    recall  f1-score   support\n",
      "\n",
      "          0       0.99      1.00      1.00    816919\n",
      "          1       1.00      0.89      0.94     53829\n",
      "\n",
      "avg / total       0.99      0.99      0.99    870748\n",
      "\n",
      "             precision    recall  f1-score   support\n",
      "\n",
      "          0       0.95      1.00      0.97    408393\n",
      "          1       0.71      0.17      0.27     26981\n",
      "\n",
      "avg / total       0.93      0.94      0.93    435374\n",
      "\n",
      "             precision    recall  f1-score   support\n",
      "\n",
      "          0       0.99      1.00      1.00    816728\n",
      "          1       1.00      0.90      0.94     54020\n",
      "\n",
      "avg / total       0.99      0.99      0.99    870748\n",
      "\n",
      "             precision    recall  f1-score   support\n",
      "\n",
      "          0       0.95      1.00      0.97    408584\n",
      "          1       0.70      0.17      0.28     26790\n",
      "\n",
      "avg / total       0.93      0.94      0.93    435374\n",
      "\n",
      "             precision    recall  f1-score   support\n",
      "\n",
      "          0       0.99      1.00      1.00    816977\n",
      "          1       1.00      0.90      0.95     53771\n",
      "\n",
      "avg / total       0.99      0.99      0.99    870748\n",
      "\n",
      "             precision    recall  f1-score   support\n",
      "\n",
      "          0       0.95      1.00      0.97    408335\n",
      "          1       0.71      0.18      0.28     27039\n",
      "\n",
      "avg / total       0.93      0.94      0.93    435374\n",
      "\n"
     ]
    }
   ],
   "source": [
    "for train_index, test_index in kf.split(X_train):\n",
    "    X_tr, X_te = X_train[train_index], X_train[test_index]\n",
    "    y_tr, y_te = y_train[train_index], y_train[test_index]\n",
    "    rf = RandomForestClassifier()\n",
    "    rf.fit(X_tr, y_tr)\n",
    "    y_train_pred = rf.predict(X_tr)\n",
    "    y_test = rf.predict(X_te)\n",
    "    print(classification_report(y_tr,y_train_pred))\n",
    "    print(classification_report(y_te,y_test))"
   ]
  },
  {
   "cell_type": "markdown",
   "metadata": {},
   "source": [
    "Определенные слова дают высокую точность, но низкую полноту. Похоже, они соответствуют какому-то одному типу \"плохих\" вопросов (например, оскорбительным). Хочется посмотреть на данные и понять,  есть ли в них какие-то нелексические признаки плохих вопросов."
   ]
  },
  {
   "cell_type": "code",
   "execution_count": 11,
   "metadata": {},
   "outputs": [
    {
     "name": "stdout",
     "output_type": "stream",
     "text": [
      "                          qid  \\\n",
      "22       0000e91571b60c2fb487   \n",
      "30       00013ceca3f624b09f42   \n",
      "110      0004a7fcb2bf73076489   \n",
      "114      00052793eaa287aff1e1   \n",
      "115      000537213b01fd77b58a   \n",
      "119      00056d45a1ce63856fc6   \n",
      "127      0005de07b07a17046e27   \n",
      "144      00068875d7c82a5bcf88   \n",
      "156      0006ffd99a6599ff35b3   \n",
      "167      00075f7061837807c69f   \n",
      "168      00076debbd82860ca33a   \n",
      "208      000983f5b226cca636f4   \n",
      "214      0009fcb845bb24de91f4   \n",
      "224      000a898565e80fe124bf   \n",
      "235      000b1f4cbc5c238a765d   \n",
      "260      000c44fe9b2822b25d77   \n",
      "286      000d9de4df8d6a31c248   \n",
      "289      000db4d0223af5dd9c5d   \n",
      "291      000db9603d16a6d9bb2e   \n",
      "302      000e67648fce55f011be   \n",
      "315      000f0266e12c3349db07   \n",
      "333      000f89527b907f3ef20f   \n",
      "362      0010b8bd37af629de2f9   \n",
      "397      0012bba774c13ce9cc9e   \n",
      "400      0012d72ccc14e9329f97   \n",
      "439      0014e0200bb280d44ea1   \n",
      "460      0015e367aa794e5d547f   \n",
      "496      00175f5e9c85b110614e   \n",
      "538      00199a473cba7b54d974   \n",
      "544      0019e01b2a7b09d3cb65   \n",
      "...                       ...   \n",
      "1305724  ffec4c802fb34eb23ef9   \n",
      "1305732  ffec82d5dbd1ebefb7c0   \n",
      "1305742  ffece1a61e7be3c3e3f5   \n",
      "1305782  ffeee6fdbb7b0d1c3b45   \n",
      "1305800  ffefde8802949fc800df   \n",
      "1305803  fff0135dbfec9632c4b1   \n",
      "1305824  fff11ad2993140f3b781   \n",
      "1305826  fff154c079d3a38e52fb   \n",
      "1305851  fff299cebfe81e809f9b   \n",
      "1305872  fff3f7db2ca135f2fb73   \n",
      "1305912  fff5fa44ab508147502a   \n",
      "1305923  fff680ed5edf7171837f   \n",
      "1305925  fff6992ae1074305146b   \n",
      "1305935  fff7047fb7f50f22034e   \n",
      "1305946  fff7c4b7fce4aa35085f   \n",
      "1305949  fff7daec8aaa3fef0144   \n",
      "1305956  fff821cc942595ad001a   \n",
      "1305961  fff88b573199be9c49dd   \n",
      "1305980  fff9b1f5811b8d100ad7   \n",
      "1305995  fffa3d341342b5466b72   \n",
      "1306017  fffb248e6d138dd1d942   \n",
      "1306025  fffb79a4422e61289508   \n",
      "1306026  fffb7af82c269dd9e46b   \n",
      "1306031  fffbada9affd3fc98e82   \n",
      "1306071  fffda2da6882154e1b91   \n",
      "1306093  fffeba722d9b371bd1b9   \n",
      "1306094  fffee269360dd0d3947a   \n",
      "1306099  ffff0e4ea1bb6e16feec   \n",
      "1306103  ffff3f0a2449ffe4b9ff   \n",
      "1306112  ffffa5b0fa76431c063f   \n",
      "\n",
      "                                             question_text  target  \n",
      "22       Has the United States become the largest dicta...       1  \n",
      "30       Which babies are more sweeter to their parents...       1  \n",
      "110      If blacks support school choice and mandatory ...       1  \n",
      "114      I am gay boy and I love my cousin (boy). He is...       1  \n",
      "115                   Which races have the smallest penis?       1  \n",
      "119                      Why do females find penises ugly?       1  \n",
      "127      How do I marry an American woman for a Green C...       1  \n",
      "144      Why do Europeans say they're the superior race...       1  \n",
      "156      Did Julius Caesar bring a tyrannosaurus rex on...       1  \n",
      "167      In what manner has Republican backing of 'stat...       1  \n",
      "168      Would Europeans continue to participate in the...       1  \n",
      "208      Why are Americans, British, Canadians, Austral...       1  \n",
      "214      If both Honey Singh and Justin Bieber fall fro...       1  \n",
      "224      Why are liberal minorities so voilent towards ...       1  \n",
      "235      Can we all now admit that President Trump does...       1  \n",
      "260      The American economy is growing under Trump’s ...       1  \n",
      "286      Why don't poor countries print more money to u...       1  \n",
      "289      Why do all the people who claim Florida has gr...       1  \n",
      "291      Could the leader of Iran be dead many years ag...       1  \n",
      "302      Why do the Liberals who run schools choose not...       1  \n",
      "315      Why did Pakistan pass the Sikh Marriage Act be...       1  \n",
      "333               How do I train my dogs to kill raccoons?       1  \n",
      "362      Is there any woman (other than Muslim) who is ...       1  \n",
      "397                      Do moms have sex with their sons?       1  \n",
      "400      Why did the Pope say that \"Muslims are a curse...       1  \n",
      "439      How peoples in India seems hypocritical about ...       1  \n",
      "460      How much more political fumbling will it take ...       1  \n",
      "496      Why do Americans prefer just to not show up so...       1  \n",
      "538      Liberals are pro-choice, but the choices must ...       1  \n",
      "544      Why are South Indian dishes which are prepared...       1  \n",
      "...                                                    ...     ...  \n",
      "1305724  When did you feel first time yourself as shame...       1  \n",
      "1305732  Where can I hire a young stud so my teenager d...       1  \n",
      "1305742  Why nobody talks about the STUPIDITY of the Am...       1  \n",
      "1305782  Is Erdogan turning Ataturk’s Democratic Turkey...       1  \n",
      "1305800  Why isn't the former attorney general Loretta ...       1  \n",
      "1305803   What percentage of women cheat on their hubbies?       1  \n",
      "1305824  Is someone diagnosed with Asperger's syndrome ...       1  \n",
      "1305826                         Why are Israeli men short?       1  \n",
      "1305851  Some psychiatrists in Iran claim that they can...       1  \n",
      "1305872  What happens to a state if its population, dem...       1  \n",
      "1305912               Do the Chinese people eat bath soap?       1  \n",
      "1305923  Does this Congress have blood on their hands f...       1  \n",
      "1305925                             Why are men selective?       1  \n",
      "1305935     Why do girls not prefer to become a physicist?       1  \n",
      "1305946  Why do the people from Kannur in Kerala adjust...       1  \n",
      "1305949  Why is there a trend for dresses to reveal the...       1  \n",
      "1305956  Should I give my child a panic button or peppe...       1  \n",
      "1305961  Is it true that hydrogen is a light, odorless ...       1  \n",
      "1305980                It is posible to kill 4months baby?       1  \n",
      "1305995  Is it a fact that the Europeans are the bigges...       1  \n",
      "1306017  What are not scam online services for essay wr...       1  \n",
      "1306025  Is it just me, or was Prince the singer ugly a...       1  \n",
      "1306026  Could we finally give Einstein's first wife cr...       1  \n",
      "1306031  Why do Jews want endless immigration to the US...       1  \n",
      "1306071  Will Oprah buy the DNC to guarantee her nomina...       1  \n",
      "1306093  How is it to have intimate relation with your ...       1  \n",
      "1306094  Why is it when singers have lyrics about voice...       1  \n",
      "1306099                  Do pakis smell of curry and shit?       1  \n",
      "1306103  Isn't Trump right after all? Why should the US...       1  \n",
      "1306112                Are you ashamed of being an Indian?       1  \n",
      "\n",
      "[80810 rows x 3 columns]\n"
     ]
    }
   ],
   "source": [
    "bad = train.loc[train['target'] == 1]\n",
    "print(bad)"
   ]
  },
  {
   "cell_type": "markdown",
   "metadata": {},
   "source": [
    "Видно, что задаватели плохих вопросов ставят больше вопросительных и восклицательных знаков"
   ]
  },
  {
   "cell_type": "code",
   "execution_count": 12,
   "metadata": {},
   "outputs": [],
   "source": [
    "from collections import Counter"
   ]
  },
  {
   "cell_type": "code",
   "execution_count": 22,
   "metadata": {},
   "outputs": [],
   "source": [
    "from tqdm import tqdm"
   ]
  },
  {
   "cell_type": "code",
   "execution_count": 83,
   "metadata": {},
   "outputs": [
    {
     "name": "stderr",
     "output_type": "stream",
     "text": [
      "100%|█████████████████████████████████████████████████████████████████████| 1306122/1306122 [00:28<00:00, 46373.15it/s]\n"
     ]
    }
   ],
   "source": [
    "punct_feature = []\n",
    "for text in tqdm(train['question_text']):\n",
    "    q = Counter(text).get('?',0)\n",
    "    e = Counter(text).get('!',0)\n",
    "    if q > 1 or e >1:\n",
    "        punct_feature.append(1)\n",
    "    else:\n",
    "        punct_feature.append(0)"
   ]
  },
  {
   "cell_type": "code",
   "execution_count": 55,
   "metadata": {},
   "outputs": [],
   "source": [
    "from scipy.sparce import csr_matrix, hstack"
   ]
  },
  {
   "cell_type": "code",
   "execution_count": 86,
   "metadata": {},
   "outputs": [],
   "source": [
    "X1 = hstack((X_train,csr_matrix(punct_feature).T))"
   ]
  },
  {
   "cell_type": "code",
   "execution_count": 114,
   "metadata": {},
   "outputs": [],
   "source": [
    "X1=csr_matrix(X1)"
   ]
  },
  {
   "cell_type": "code",
   "execution_count": 87,
   "metadata": {},
   "outputs": [
    {
     "data": {
      "text/plain": [
       "(1306122, 25001)"
      ]
     },
     "execution_count": 87,
     "metadata": {},
     "output_type": "execute_result"
    }
   ],
   "source": [
    "X1.shape"
   ]
  },
  {
   "cell_type": "code",
   "execution_count": 115,
   "metadata": {},
   "outputs": [
    {
     "name": "stdout",
     "output_type": "stream",
     "text": [
      "             precision    recall  f1-score   support\n",
      "\n",
      "          0       0.96      0.99      0.98    816919\n",
      "          1       0.73      0.43      0.54     53829\n",
      "\n",
      "avg / total       0.95      0.96      0.95    870748\n",
      "\n",
      "             precision    recall  f1-score   support\n",
      "\n",
      "          0       0.96      0.99      0.98    408393\n",
      "          1       0.71      0.41      0.52     26981\n",
      "\n",
      "avg / total       0.95      0.95      0.95    435374\n",
      "\n",
      "             precision    recall  f1-score   support\n",
      "\n",
      "          0       0.96      0.99      0.98    816728\n",
      "          1       0.73      0.43      0.54     54020\n",
      "\n",
      "avg / total       0.95      0.96      0.95    870748\n",
      "\n",
      "             precision    recall  f1-score   support\n",
      "\n",
      "          0       0.96      0.99      0.98    408584\n",
      "          1       0.71      0.41      0.52     26790\n",
      "\n",
      "avg / total       0.95      0.95      0.95    435374\n",
      "\n",
      "             precision    recall  f1-score   support\n",
      "\n",
      "          0       0.96      0.99      0.98    816977\n",
      "          1       0.73      0.43      0.54     53771\n",
      "\n",
      "avg / total       0.95      0.96      0.95    870748\n",
      "\n",
      "             precision    recall  f1-score   support\n",
      "\n",
      "          0       0.96      0.99      0.98    408335\n",
      "          1       0.70      0.41      0.52     27039\n",
      "\n",
      "avg / total       0.95      0.95      0.95    435374\n",
      "\n"
     ]
    }
   ],
   "source": [
    "for train_index, test_index in kf.split(X_train):\n",
    "    X_tr, X_te = X1[train_index], X1[test_index]\n",
    "    y_tr, y_te = y_train[train_index], y_train[test_index]\n",
    "    lr = LogisticRegression()\n",
    "    lr.fit(X_tr, y_tr)\n",
    "    y_train_pred = lr.predict(X_tr)\n",
    "    y_test = lr.predict(X_te)\n",
    "    print(classification_report(y_tr,y_train_pred))\n",
    "    print(classification_report(y_te,y_test))"
   ]
  },
  {
   "cell_type": "markdown",
   "metadata": {},
   "source": [
    "Стало лучше. Попробуем еще эмбеддинги"
   ]
  },
  {
   "cell_type": "code",
   "execution_count": 99,
   "metadata": {},
   "outputs": [],
   "source": [
    "model = KeyedVectors.load(\"word2vec.model\")"
   ]
  },
  {
   "cell_type": "code",
   "execution_count": 96,
   "metadata": {},
   "outputs": [],
   "source": [
    "def get_embedding(text, model, dim):\n",
    "    text = text.split()\n",
    "    \n",
    "    # еще раз код с лекции\n",
    "    words = Counter(text)\n",
    "    total = len(text)\n",
    "    vectors = np.zeros((len(words), dim))\n",
    "    \n",
    "    for i,word in enumerate(words):\n",
    "        try:\n",
    "            v = model[word]\n",
    "            vectors[i] = v*(words[word]/total) \n",
    "        except (KeyError, ValueError):\n",
    "            continue\n",
    "    \n",
    "    if vectors.any():\n",
    "        vector = np.average(vectors, axis=0)\n",
    "    else:\n",
    "        vector = np.zeros((dim))\n",
    "    \n",
    "    return vector"
   ]
  },
  {
   "cell_type": "code",
   "execution_count": 105,
   "metadata": {},
   "outputs": [
    {
     "name": "stderr",
     "output_type": "stream",
     "text": [
      "100%|██████████████████████████████████████████████████████████████████████| 1306122/1306122 [05:13<00:00, 4163.58it/s]\n"
     ]
    }
   ],
   "source": [
    "dim = 200\n",
    "X_w2v = np.zeros((len(train['question_text']), dim))\n",
    "\n",
    "for i, text in enumerate(tqdm(train['question_text'])):\n",
    "    X_w2v[i] = get_embedding(text, model, dim)"
   ]
  },
  {
   "cell_type": "code",
   "execution_count": 106,
   "metadata": {},
   "outputs": [
    {
     "data": {
      "text/plain": [
       "(1306122, 200)"
      ]
     },
     "execution_count": 106,
     "metadata": {},
     "output_type": "execute_result"
    }
   ],
   "source": [
    "X_w2v.shape"
   ]
  },
  {
   "cell_type": "code",
   "execution_count": 107,
   "metadata": {},
   "outputs": [],
   "source": [
    "X2 = hstack((X1,csr_matrix(X_w2v)))"
   ]
  },
  {
   "cell_type": "code",
   "execution_count": 109,
   "metadata": {},
   "outputs": [
    {
     "data": {
      "text/plain": [
       "(1306122, 25201)"
      ]
     },
     "execution_count": 109,
     "metadata": {},
     "output_type": "execute_result"
    }
   ],
   "source": [
    "X2.shape"
   ]
  },
  {
   "cell_type": "code",
   "execution_count": 116,
   "metadata": {},
   "outputs": [],
   "source": [
    "X2=csr_matrix(X2)"
   ]
  },
  {
   "cell_type": "code",
   "execution_count": 117,
   "metadata": {},
   "outputs": [
    {
     "name": "stdout",
     "output_type": "stream",
     "text": [
      "             precision    recall  f1-score   support\n",
      "\n",
      "          0       0.96      0.99      0.98    816919\n",
      "          1       0.73      0.43      0.54     53829\n",
      "\n",
      "avg / total       0.95      0.96      0.95    870748\n",
      "\n",
      "             precision    recall  f1-score   support\n",
      "\n",
      "          0       0.96      0.99      0.98    408393\n",
      "          1       0.71      0.41      0.52     26981\n",
      "\n",
      "avg / total       0.95      0.95      0.95    435374\n",
      "\n",
      "             precision    recall  f1-score   support\n",
      "\n",
      "          0       0.96      0.99      0.98    816728\n",
      "          1       0.73      0.43      0.54     54020\n",
      "\n",
      "avg / total       0.95      0.96      0.95    870748\n",
      "\n",
      "             precision    recall  f1-score   support\n",
      "\n",
      "          0       0.96      0.99      0.98    408584\n",
      "          1       0.71      0.41      0.52     26790\n",
      "\n",
      "avg / total       0.95      0.95      0.95    435374\n",
      "\n",
      "             precision    recall  f1-score   support\n",
      "\n",
      "          0       0.96      0.99      0.98    816977\n",
      "          1       0.73      0.43      0.54     53771\n",
      "\n",
      "avg / total       0.95      0.96      0.95    870748\n",
      "\n",
      "             precision    recall  f1-score   support\n",
      "\n",
      "          0       0.96      0.99      0.98    408335\n",
      "          1       0.70      0.41      0.52     27039\n",
      "\n",
      "avg / total       0.95      0.95      0.95    435374\n",
      "\n"
     ]
    }
   ],
   "source": [
    "for train_index, test_index in kf.split(X_train):\n",
    "    X_tr, X_te = X2[train_index], X2[test_index]\n",
    "    y_tr, y_te = y_train[train_index], y_train[test_index]\n",
    "    lr = LogisticRegression()\n",
    "    lr.fit(X_tr, y_tr)\n",
    "    y_train_pred = lr.predict(X_tr)\n",
    "    y_test = lr.predict(X_te)\n",
    "    print(classification_report(y_tr,y_train_pred))\n",
    "    print(classification_report(y_te,y_test))"
   ]
  },
  {
   "cell_type": "markdown",
   "metadata": {},
   "source": [
    "Похоже, что изменения в лучшую сторону  произошли от замены случайного леса на логрегрессию, а не от добавления признаков.\n",
    "\n",
    "Можно много чего еще сделать: умную предобработку, убрать tf idf, но оставить эмбеддинги, попробовать какие-нибудь другие эмбеддинги, придумать более умные признаки. Но не в этом маленьком проекте."
   ]
  }
 ],
 "metadata": {
  "kernelspec": {
   "display_name": "env",
   "language": "python",
   "name": "env"
  },
  "language_info": {
   "codemirror_mode": {
    "name": "ipython",
    "version": 3
   },
   "file_extension": ".py",
   "mimetype": "text/x-python",
   "name": "python",
   "nbconvert_exporter": "python",
   "pygments_lexer": "ipython3",
   "version": "3.6.5"
  }
 },
 "nbformat": 4,
 "nbformat_minor": 2
}
